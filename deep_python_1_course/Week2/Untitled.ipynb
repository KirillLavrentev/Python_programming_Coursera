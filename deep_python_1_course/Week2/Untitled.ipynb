{
 "cells": [
  {
   "cell_type": "code",
   "execution_count": 2,
   "metadata": {},
   "outputs": [],
   "source": [
    "\"\"\"\"\n",
    "Вашей задачей будет написать скрипт, который принимает в качестве аргументов ключи и значения \n",
    "и выводит информацию из хранилища (в нашем случае — из файла).\n",
    "\n",
    "Запись значения по ключу\n",
    "\n",
    "> storage.py --key key_name --val value\n",
    "\n",
    "Получение значения по ключу\n",
    "\n",
    "> storage.py --key key_name\n",
    "\n",
    "Ответом в данном случае будет вывод с помощью print соответствующего значения\n",
    "\n",
    "> value\n",
    "\n",
    "или\n",
    "\n",
    "> value_1, value_2\n",
    "\n",
    "если значений по этому ключу было записано несколько. Метрики сохраняйте в порядке их добавления. \n",
    "Обратите внимание на пробел после запятой.\n",
    "\n",
    "Если значений по ключу не было найдено, выводите пустую строку или None.\n",
    "\n",
    "Для работы с аргументами командной строки используйте модуль argparse. \n",
    "Вашей задачей будет считать аргументы, переданные вашей программе, и записать соответствующую пару\n",
    "ключ-значение в файл хранилища или вывести значения, если был передан только ключ. \n",
    "Хранить данные вы можете в формате JSON с помощью стандартного модуля json. \n",
    "Проверьте добавление нескольких ключей и разных значений.\n",
    "\n",
    "Файл следует создавать с помощью модуля tempfile.\n",
    "\"\"\"\"\n"
   ]
  },
  {
   "cell_type": "code",
   "execution_count": 3,
   "metadata": {},
   "outputs": [
    {
     "name": "stderr",
     "output_type": "stream",
     "text": [
      "usage: ipykernel_launcher.py [-h] [--key KEY] [--val]\n",
      "ipykernel_launcher.py: error: unrecognized arguments: -f /run/user/1000/jupyter/kernel-d8336384-9cbe-48f0-a97d-639aa8e1935f.json\n"
     ]
    },
    {
     "ename": "SystemExit",
     "evalue": "2",
     "output_type": "error",
     "traceback": [
      "An exception has occurred, use %tb to see the full traceback.\n",
      "\u001b[0;31mSystemExit\u001b[0m\u001b[0;31m:\u001b[0m 2\n"
     ]
    },
    {
     "name": "stderr",
     "output_type": "stream",
     "text": [
      "/home/kl/.local/lib/python3.6/site-packages/IPython/core/interactiveshell.py:2969: UserWarning: To exit: use 'exit', 'quit', or Ctrl-D.\n",
      "  warn(\"To exit: use 'exit', 'quit', or Ctrl-D.\", stacklevel=1)\n"
     ]
    }
   ],
   "source": [
    "import os\n",
    "import tempfile\n",
    "import json\n",
    "import argparse\n",
    "\n",
    "storage_path = os.path.join(tempfile.gettempdir(), 'storage.data')\n",
    "with open(storage_path, 'w') as f:\n",
    "    parser = argparse.ArgumentParser()\n",
    "    parser.add_argument(\"--key\", type = str, help=\"get key value\")\n",
    "    parser.add_argument(\"--val\", type = str, action=\"store_true\", help = \"get and write value\")\n",
    "    \n",
    "    \n",
    "    args = parser.parse_args()\n",
    "    answer = args.val\n",
    "    print(\"the square of {}, {}\".format(args.key, args.value))\n",
    "\n",
    "        \n",
    "        \n"
   ]
  },
  {
   "cell_type": "code",
   "execution_count": 15,
   "metadata": {},
   "outputs": [],
   "source": [
    "a = ['3','3','3']\n"
   ]
  },
  {
   "cell_type": "code",
   "execution_count": 16,
   "metadata": {},
   "outputs": [
    {
     "data": {
      "text/plain": [
       "'3, 3, 3'"
      ]
     },
     "execution_count": 16,
     "metadata": {},
     "output_type": "execute_result"
    }
   ],
   "source": [
    "b = ''\n",
    "for i in a:\n",
    "    b = b + i + ', '\n",
    "answer = b[:len(b)-2]\n",
    "answer"
   ]
  },
  {
   "cell_type": "code",
   "execution_count": null,
   "metadata": {},
   "outputs": [],
   "source": [
    "c = ''.join(b)"
   ]
  }
 ],
 "metadata": {
  "kernelspec": {
   "display_name": "Python 3",
   "language": "python",
   "name": "python3"
  },
  "language_info": {
   "codemirror_mode": {
    "name": "ipython",
    "version": 3
   },
   "file_extension": ".py",
   "mimetype": "text/x-python",
   "name": "python",
   "nbconvert_exporter": "python",
   "pygments_lexer": "ipython3",
   "version": "3.6.5"
  }
 },
 "nbformat": 4,
 "nbformat_minor": 2
}
