{
 "cells": [
  {
   "cell_type": "code",
   "execution_count": 4,
   "metadata": {},
   "outputs": [],
   "source": [
    "import socket\n",
    "import time\n",
    "\n",
    "\n",
    "class ClientError(Exception):\n",
    "    \"\"\"Общий класс исключений клиента\"\"\"\n",
    "    pass\n",
    "\n",
    "\n",
    "class ClientSocketError(ClientError):\n",
    "    \"\"\"Исключение, выбрасываемое клиентом при сетевой ошибке\"\"\"\n",
    "    pass\n",
    "\n",
    "\n",
    "class ClientProtocolError(ClientError):\n",
    "    \"\"\"Исключение, выбрасываемое клиентом при ошибке протокола\"\"\"\n",
    "    pass\n",
    "\n",
    "\n",
    "class Client:\n",
    "    def __init__(self, host, port, timeout=None):\n",
    "        # класс инкапсулирует создание сокета\n",
    "        # создаем клиентский сокет, запоминаем объект socket.socket в self \n",
    "        self.host = host\n",
    "        self.port = port\n",
    "        try:\n",
    "            self.connection = socket.create_connection((host, port), timeout)\n",
    "        except socket.error as err:\n",
    "            raise ClientSocketError(\"error create connection\", err)\n",
    "\n",
    "    def _read(self):\n",
    "        \"\"\"Метод для чтения ответа сервера\"\"\"\n",
    "        data = b\"\"\n",
    "        # накапливаем буфер, пока не встретим \"\\n\\n\" в конце команды\n",
    "        while not data.endswith(b\"\\n\\n\"):\n",
    "            try:\n",
    "                data += self.connection.recv(1024)\n",
    "            except socket.error as err:\n",
    "                raise ClientSocketError(\"error recv data\", err)\n",
    "\n",
    "        # не забываем преобразовывать байты в объекты str для дальнейшей работы\n",
    "        decoded_data = data.decode()\n",
    "\n",
    "        status, payload = decoded_data.split(\"\\n\", 1)\n",
    "        payload = payload.strip()\n",
    "\n",
    "        # если получили ошибку - бросаем исключение ClientError\n",
    "        if status == \"error\":\n",
    "            raise ClientProtocolError(payload)\n",
    "\n",
    "        return payload\n",
    "\n",
    "    def put(self, key, value, timestamp=None):\n",
    "        timestamp = timestamp or int(time.time())\n",
    "\n",
    "        # отправляем запрос команды put\n",
    "        try:\n",
    "            self.connection.sendall(\n",
    "                f\"put {key} {value} {timestamp}\\n\".encode()\n",
    "            )\n",
    "        except socket.error as err:\n",
    "            raise ClientSocketError(\"error send data\", err)\n",
    "\n",
    "        # разбираем ответ\n",
    "        self._read()\n",
    "\n",
    "    def get(self, key):\n",
    "        # формируем и отправляем запрос команды get\n",
    "        try:\n",
    "            self.connection.sendall(\n",
    "                f\"get {key}\\n\".encode()\n",
    "            )\n",
    "        except socket.error as err:\n",
    "            raise ClientError(\"error send data\", err)\n",
    "\n",
    "        # читаем ответ\n",
    "        payload = self._read()\n",
    "\n",
    "        data = {}\n",
    "        if payload == \"\":\n",
    "            return data\n",
    "\n",
    "        # разбираем ответ для команды get\n",
    "        for row in payload.split(\"\\n\"):\n",
    "            key, value, timestamp = row.split()\n",
    "            print(key,' ', value,' ', timestamp)\n",
    "            if key not in data:\n",
    "                data[key] = []\n",
    "            data[key].append((int(timestamp), float(value)))\n",
    "\n",
    "        return data\n",
    "\n",
    "    def close(self):\n",
    "        try:\n",
    "            self.connection.close()\n",
    "        except socket.error as err:\n",
    "            raise ClientSocketError(\"error close connection\", err)\n",
    "\n",
    "\n"
   ]
  },
  {
   "cell_type": "code",
   "execution_count": 3,
   "metadata": {},
   "outputs": [
    {
     "ename": "ClientSocketError",
     "evalue": "('error recv data', timeout('timed out',))",
     "output_type": "error",
     "traceback": [
      "\u001b[0;31m---------------------------------------------------------------------------\u001b[0m",
      "\u001b[0;31mtimeout\u001b[0m                                   Traceback (most recent call last)",
      "\u001b[0;32m<ipython-input-2-93986227f2a1>\u001b[0m in \u001b[0;36m_read\u001b[0;34m(self)\u001b[0m\n\u001b[1;32m     36\u001b[0m             \u001b[0;32mtry\u001b[0m\u001b[0;34m:\u001b[0m\u001b[0;34m\u001b[0m\u001b[0m\n\u001b[0;32m---> 37\u001b[0;31m                 \u001b[0mdata\u001b[0m \u001b[0;34m+=\u001b[0m \u001b[0mself\u001b[0m\u001b[0;34m.\u001b[0m\u001b[0mconnection\u001b[0m\u001b[0;34m.\u001b[0m\u001b[0mrecv\u001b[0m\u001b[0;34m(\u001b[0m\u001b[0;36m1024\u001b[0m\u001b[0;34m)\u001b[0m\u001b[0;34m\u001b[0m\u001b[0m\n\u001b[0m\u001b[1;32m     38\u001b[0m             \u001b[0;32mexcept\u001b[0m \u001b[0msocket\u001b[0m\u001b[0;34m.\u001b[0m\u001b[0merror\u001b[0m \u001b[0;32mas\u001b[0m \u001b[0merr\u001b[0m\u001b[0;34m:\u001b[0m\u001b[0;34m\u001b[0m\u001b[0m\n",
      "\u001b[0;31mtimeout\u001b[0m: timed out",
      "\nDuring handling of the above exception, another exception occurred:\n",
      "\u001b[0;31mClientSocketError\u001b[0m                         Traceback (most recent call last)",
      "\u001b[0;32m<ipython-input-3-6442d14d82f6>\u001b[0m in \u001b[0;36m<module>\u001b[0;34m()\u001b[0m\n\u001b[1;32m      1\u001b[0m \u001b[0;32mif\u001b[0m \u001b[0m__name__\u001b[0m \u001b[0;34m==\u001b[0m \u001b[0;34m\"__main__\"\u001b[0m\u001b[0;34m:\u001b[0m\u001b[0;34m\u001b[0m\u001b[0m\n\u001b[1;32m      2\u001b[0m     \u001b[0mclient\u001b[0m \u001b[0;34m=\u001b[0m \u001b[0mClient\u001b[0m\u001b[0;34m(\u001b[0m\u001b[0;34m\"127.0.0.1\"\u001b[0m\u001b[0;34m,\u001b[0m \u001b[0;36m8888\u001b[0m\u001b[0;34m,\u001b[0m \u001b[0mtimeout\u001b[0m\u001b[0;34m=\u001b[0m\u001b[0;36m5\u001b[0m\u001b[0;34m)\u001b[0m\u001b[0;34m\u001b[0m\u001b[0m\n\u001b[0;32m----> 3\u001b[0;31m     \u001b[0mclient\u001b[0m\u001b[0;34m.\u001b[0m\u001b[0mput\u001b[0m\u001b[0;34m(\u001b[0m\u001b[0;34m\"test\"\u001b[0m\u001b[0;34m,\u001b[0m \u001b[0;36m0.5\u001b[0m\u001b[0;34m,\u001b[0m \u001b[0mtimestamp\u001b[0m\u001b[0;34m=\u001b[0m\u001b[0;36m1\u001b[0m\u001b[0;34m)\u001b[0m\u001b[0;34m\u001b[0m\u001b[0m\n\u001b[0m\u001b[1;32m      4\u001b[0m     \u001b[0mclient\u001b[0m\u001b[0;34m.\u001b[0m\u001b[0mput\u001b[0m\u001b[0;34m(\u001b[0m\u001b[0;34m\"test\"\u001b[0m\u001b[0;34m,\u001b[0m \u001b[0;36m2.0\u001b[0m\u001b[0;34m,\u001b[0m \u001b[0mtimestamp\u001b[0m\u001b[0;34m=\u001b[0m\u001b[0;36m2\u001b[0m\u001b[0;34m)\u001b[0m\u001b[0;34m\u001b[0m\u001b[0m\n\u001b[1;32m      5\u001b[0m     \u001b[0mclient\u001b[0m\u001b[0;34m.\u001b[0m\u001b[0mput\u001b[0m\u001b[0;34m(\u001b[0m\u001b[0;34m\"test\"\u001b[0m\u001b[0;34m,\u001b[0m \u001b[0;36m0.5\u001b[0m\u001b[0;34m,\u001b[0m \u001b[0mtimestamp\u001b[0m\u001b[0;34m=\u001b[0m\u001b[0;36m3\u001b[0m\u001b[0;34m)\u001b[0m\u001b[0;34m\u001b[0m\u001b[0m\n",
      "\u001b[0;32m<ipython-input-2-93986227f2a1>\u001b[0m in \u001b[0;36mput\u001b[0;34m(self, key, value, timestamp)\u001b[0m\n\u001b[1;32m     63\u001b[0m \u001b[0;34m\u001b[0m\u001b[0m\n\u001b[1;32m     64\u001b[0m         \u001b[0;31m# разбираем ответ\u001b[0m\u001b[0;34m\u001b[0m\u001b[0;34m\u001b[0m\u001b[0m\n\u001b[0;32m---> 65\u001b[0;31m         \u001b[0mself\u001b[0m\u001b[0;34m.\u001b[0m\u001b[0m_read\u001b[0m\u001b[0;34m(\u001b[0m\u001b[0;34m)\u001b[0m\u001b[0;34m\u001b[0m\u001b[0m\n\u001b[0m\u001b[1;32m     66\u001b[0m \u001b[0;34m\u001b[0m\u001b[0m\n\u001b[1;32m     67\u001b[0m     \u001b[0;32mdef\u001b[0m \u001b[0mget\u001b[0m\u001b[0;34m(\u001b[0m\u001b[0mself\u001b[0m\u001b[0;34m,\u001b[0m \u001b[0mkey\u001b[0m\u001b[0;34m)\u001b[0m\u001b[0;34m:\u001b[0m\u001b[0;34m\u001b[0m\u001b[0m\n",
      "\u001b[0;32m<ipython-input-2-93986227f2a1>\u001b[0m in \u001b[0;36m_read\u001b[0;34m(self)\u001b[0m\n\u001b[1;32m     37\u001b[0m                 \u001b[0mdata\u001b[0m \u001b[0;34m+=\u001b[0m \u001b[0mself\u001b[0m\u001b[0;34m.\u001b[0m\u001b[0mconnection\u001b[0m\u001b[0;34m.\u001b[0m\u001b[0mrecv\u001b[0m\u001b[0;34m(\u001b[0m\u001b[0;36m1024\u001b[0m\u001b[0;34m)\u001b[0m\u001b[0;34m\u001b[0m\u001b[0m\n\u001b[1;32m     38\u001b[0m             \u001b[0;32mexcept\u001b[0m \u001b[0msocket\u001b[0m\u001b[0;34m.\u001b[0m\u001b[0merror\u001b[0m \u001b[0;32mas\u001b[0m \u001b[0merr\u001b[0m\u001b[0;34m:\u001b[0m\u001b[0;34m\u001b[0m\u001b[0m\n\u001b[0;32m---> 39\u001b[0;31m                 \u001b[0;32mraise\u001b[0m \u001b[0mClientSocketError\u001b[0m\u001b[0;34m(\u001b[0m\u001b[0;34m\"error recv data\"\u001b[0m\u001b[0;34m,\u001b[0m \u001b[0merr\u001b[0m\u001b[0;34m)\u001b[0m\u001b[0;34m\u001b[0m\u001b[0m\n\u001b[0m\u001b[1;32m     40\u001b[0m \u001b[0;34m\u001b[0m\u001b[0m\n\u001b[1;32m     41\u001b[0m         \u001b[0;31m# не забываем преобразовывать байты в объекты str для дальнейшей работы\u001b[0m\u001b[0;34m\u001b[0m\u001b[0;34m\u001b[0m\u001b[0m\n",
      "\u001b[0;31mClientSocketError\u001b[0m: ('error recv data', timeout('timed out',))"
     ]
    }
   ],
   "source": [
    "if __name__ == \"__main__\":\n",
    "    client = Client(\"127.0.0.1\", 8888, timeout=5)\n",
    "    client.put(\"test\", 0.5, timestamp=1)\n",
    "    client.put(\"test\", 2.0, timestamp=2)\n",
    "    client.put(\"test\", 0.5, timestamp=3)\n",
    "    client.put(\"load\", 3, timestamp=4)\n",
    "    client.put(\"load\", 4, timestamp=5)\n",
    "    print(client.get(\"*\"))\n",
    "\n",
    "    client.close()"
   ]
  },
  {
   "cell_type": "code",
   "execution_count": 5,
   "metadata": {},
   "outputs": [],
   "source": [
    "import socket\n",
    "import time \n",
    "\n",
    "class ClientError(Exception):\n",
    "    pass\n",
    "\n",
    "class Client:\n",
    "    def __init__(self, addr, port, timeout=None):\n",
    "        self._addr = addr\n",
    "        self._port = int(port)\n",
    "        self._timeout = int(timeout)\n",
    "\n",
    "    def send(self, cmd):\n",
    "        with socket.create_connection((self._addr, self._port), self._timeout) as sock:\n",
    "            sock.sendall(cmd.encode(\"utf8\"))\n",
    "            buf = sock.recv(1024)\n",
    "            return buf.decode('utf-8')\n",
    "\n",
    "    def get(self, key):\n",
    "        resp = self.send('get ' + key + '\\n')\n",
    "        if resp[0:3] != 'ok\\n':\n",
    "            raise ClientError(resp)\n",
    "        ret = dict()\n",
    "        lines = resp.split('\\n')\n",
    "        for l in lines[1:-2]:\n",
    "            metric = l.split(' ')\n",
    "            res_key = metric[0]\n",
    "            res_val = float(metric[1])\n",
    "            res_ts = int(metric[2])\n",
    "            if not res_key in ret:\n",
    "                ret[res_key] = list()\n",
    "            ret[res_key].append((res_ts, res_val))\n",
    "            ret[res_key].sort(key=lambda tup: tup[0])\n",
    "\n",
    "        return ret\n",
    "\n",
    "    def put(self, key, val, timestamp=None):\n",
    "        resp = self.send('put ' + key + ' ' + str(val) + ' ' + str(timestamp if timestamp else int(time.time())) + '\\n')\n",
    "        if resp[0:3] != 'ok\\n':\n",
    "            raise ClientError(resp)"
   ]
  },
  {
   "cell_type": "code",
   "execution_count": 57,
   "metadata": {},
   "outputs": [
    {
     "name": "stdout",
     "output_type": "stream",
     "text": [
      "Error\n"
     ]
    }
   ],
   "source": [
    "payload = 'ok\\npalm.cpu 10.5 1501864247\\neardrum.cpu 15.3 1501864259\\n\\n'\n",
    "class ClientError(Exception):\n",
    "    print('Error')"
   ]
  },
  {
   "cell_type": "code",
   "execution_count": 62,
   "metadata": {},
   "outputs": [
    {
     "name": "stdout",
     "output_type": "stream",
     "text": [
      "palm.cpu   10.5   1501864247\n",
      "eardrum.cpu   15.3   1501864259\n"
     ]
    }
   ],
   "source": [
    "data = {}\n",
    "\n",
    "        # разбираем ответ для команды get\n",
    "# разбираем ответ для команды get\n",
    "for count,row in enumerate(payload.split(\"\\n\")):\n",
    "#     print(type(row),type(count))\n",
    "    if (count == 0):\n",
    "        if (row != 'ok'):\n",
    "            raise ClientError(row)\n",
    "    try:\n",
    "        key, value, timestamp = row.split()\n",
    "    except ValueError:\n",
    "        continue\n",
    "    print(key,' ', value,' ', timestamp)\n",
    "    if key not in data:\n",
    "        data[key] = []\n",
    "    data[key].append((int(timestamp), float(value)))\n"
   ]
  },
  {
   "cell_type": "code",
   "execution_count": 24,
   "metadata": {},
   "outputs": [
    {
     "data": {
      "text/plain": [
       "['ok', 'palm.cpu 10.5 1501864247', 'eardrum.cpu 15.3 1501864259', '', '']"
      ]
     },
     "execution_count": 24,
     "metadata": {},
     "output_type": "execute_result"
    }
   ],
   "source": [
    "payload.split(\"\\n\")"
   ]
  }
 ],
 "metadata": {
  "kernelspec": {
   "display_name": "Python 3",
   "language": "python",
   "name": "python3"
  },
  "language_info": {
   "codemirror_mode": {
    "name": "ipython",
    "version": 3
   },
   "file_extension": ".py",
   "mimetype": "text/x-python",
   "name": "python",
   "nbconvert_exporter": "python",
   "pygments_lexer": "ipython3",
   "version": "3.6.5"
  }
 },
 "nbformat": 4,
 "nbformat_minor": 2
}
