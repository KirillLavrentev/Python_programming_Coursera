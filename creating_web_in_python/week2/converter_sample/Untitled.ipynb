{
 "cells": [
  {
   "cell_type": "code",
   "execution_count": 37,
   "metadata": {},
   "outputs": [],
   "source": [
    "from bs4 import BeautifulSoup\n",
    "import unittest\n",
    "import re\n",
    "\n",
    "path = '/home/kl/Рабочий стол/Python_Course/creating_web_in_python_3_course/week2/BS_parser/wiki/Artificial_intelligence'"
   ]
  },
  {
   "cell_type": "markdown",
   "metadata": {},
   "source": [
    "Answers\n",
    "            ('wiki/Stone_Age', [13, 10, 12, 40]),\n",
    "            ('wiki/Brain', [19, 5, 25, 11]),\n",
    "            ('wiki/Artificial_intelligence', [8, 19, 13, 198]),\n",
    "            ('wiki/Python_(programming_language)', [2, 5, 17, 41]),\n",
    "            ('wiki/Spectrogram', [1, 2, 4, 7]),)"
   ]
  },
  {
   "cell_type": "code",
   "execution_count": 33,
   "metadata": {},
   "outputs": [],
   "source": [
    "def get_images_amount(body):\n",
    "    imgs = body.find_all('img')\n",
    "    fit_imgs = len(\n",
    "        [x for x in imgs if x.get('width') and int(x.get('width')) >= 200]\n",
    "    )\n",
    "    return fit_imgs\n",
    "\n",
    "def get_headers_amount(body):\n",
    "    headers = body.find_all(re.compile('^h[1-6]$'))\n",
    "    count = 0\n",
    "    for header in headers:\n",
    "        children = header.find_all(recursive=False)\n",
    "        if children:\n",
    "            children_content = [x.getText() for x in children if x.getText()]\n",
    "            try:\n",
    "                first_letter = children_content[0][0]\n",
    "                if first_letter in 'ETC':\n",
    "                    count += 1\n",
    "            except IndexError:\n",
    "                pass\n",
    "        else:\n",
    "            try:\n",
    "                first_letter = header.getText()[0]\n",
    "                if first_letter in 'ETC':\n",
    "                    count += 1\n",
    "            except IndexError:\n",
    "                pass\n",
    "    return count\n",
    "\n",
    "\n",
    "def get_max_links_len(body):\n",
    "    max_count = 0\n",
    "    all_links = body.find_all('a')\n",
    "    for link in all_links:\n",
    "        current_count = 1\n",
    "        siblings = link.find_next_siblings()\n",
    "        for sibling in siblings:\n",
    "            if sibling.name == 'a':\n",
    "                current_count += 1\n",
    "                max_count = max(current_count, max_count)\n",
    "            else:\n",
    "                current_count = 0\n",
    "    return max_count\n",
    "\n",
    "\n",
    "def get_lists_num(body):\n",
    "    count = 0\n",
    "    all_lists = body.find_all(['ul', 'ol'])\n",
    "    for tag in all_lists:\n",
    "        if not tag.find_parents(['ul', 'ol']):\n",
    "            count += 1\n",
    "    return count\n",
    "\n",
    "\n",
    "def parse(path_to_file):    \n",
    "    with open(path,'r',encoding='utf-8') as html:\n",
    "        soup = BeautifulSoup(html, \"lxml\")    \n",
    "    \n",
    "    body = soup.find(id=\"bodyContent\")\n",
    "#     print(body)\n",
    "    imgs = get_images_amount(body)\n",
    "    headers = get_headers_amount(body)\n",
    "    linkslen = get_max_links_len(body)\n",
    "    lists = get_lists_num(body)\n",
    "    \n",
    "    return [imgs, headers, linkslen, lists]"
   ]
  },
  {
   "cell_type": "code",
   "execution_count": 38,
   "metadata": {},
   "outputs": [
    {
     "data": {
      "text/plain": [
       "[8, 19, 13, 198]"
      ]
     },
     "execution_count": 38,
     "metadata": {},
     "output_type": "execute_result"
    }
   ],
   "source": [
    "parse(path)"
   ]
  },
  {
   "cell_type": "code",
   "execution_count": null,
   "metadata": {},
   "outputs": [],
   "source": []
  },
  {
   "cell_type": "code",
   "execution_count": null,
   "metadata": {},
   "outputs": [],
   "source": []
  },
  {
   "cell_type": "code",
   "execution_count": null,
   "metadata": {},
   "outputs": [],
   "source": []
  },
  {
   "cell_type": "code",
   "execution_count": null,
   "metadata": {},
   "outputs": [],
   "source": []
  },
  {
   "cell_type": "code",
   "execution_count": null,
   "metadata": {},
   "outputs": [],
   "source": []
  },
  {
   "cell_type": "code",
   "execution_count": null,
   "metadata": {},
   "outputs": [],
   "source": []
  },
  {
   "cell_type": "code",
   "execution_count": null,
   "metadata": {},
   "outputs": [],
   "source": []
  },
  {
   "cell_type": "code",
   "execution_count": null,
   "metadata": {},
   "outputs": [],
   "source": []
  },
  {
   "cell_type": "code",
   "execution_count": null,
   "metadata": {},
   "outputs": [],
   "source": []
  },
  {
   "cell_type": "code",
   "execution_count": 12,
   "metadata": {},
   "outputs": [],
   "source": [
    "from bs4 import BeautifulSoup\n",
    "from decimal import Decimal\n",
    "\n",
    "\n",
    "def convert(amount, cur_from, cur_to, date, requests):\n",
    "    result = requests.get(\"http://www.cbr.ru/scripts/XML_daily.asp\", {\"date_req\": date})\n",
    "    soup = BeautifulSoup(result.content, 'xml')\n",
    "    rates = {i.CharCode.string: (\n",
    "            Decimal(i.Value.string.replace(',', '.')),\n",
    "            int(i.Nominal.string)\n",
    "        ) for i in soup('Valute')\n",
    "    }\n",
    "    rates['RUR'] = (Decimal(1), 1)\n",
    "\n",
    "    result = amount * rates[cur_from][0] * rates[cur_to][1] / rates[cur_from][1] / rates[cur_to][0]\n",
    "    return result.quantize(Decimal('.0001'))"
   ]
  },
  {
   "cell_type": "code",
   "execution_count": 8,
   "metadata": {},
   "outputs": [
    {
     "data": {
      "text/plain": [
       "Decimal('2')"
      ]
     },
     "execution_count": 8,
     "metadata": {},
     "output_type": "execute_result"
    }
   ],
   "source": [
    "from decimal import Decimal\n",
    "Decimal('10')/Decimal('5')"
   ]
  },
  {
   "cell_type": "code",
   "execution_count": 14,
   "metadata": {},
   "outputs": [
    {
     "ename": "TypeError",
     "evalue": "get() missing 1 required positional argument: 'url'",
     "output_type": "error",
     "traceback": [
      "\u001b[0;31m---------------------------------------------------------------------------\u001b[0m",
      "\u001b[0;31mTypeError\u001b[0m                                 Traceback (most recent call last)",
      "\u001b[0;32m<ipython-input-14-17efbcf3d501>\u001b[0m in \u001b[0;36m<module>\u001b[0;34m()\u001b[0m\n\u001b[1;32m      5\u001b[0m \u001b[0;34m\u001b[0m\u001b[0m\n\u001b[1;32m      6\u001b[0m \u001b[0mcorrect\u001b[0m \u001b[0;34m=\u001b[0m \u001b[0mDecimal\u001b[0m\u001b[0;34m(\u001b[0m\u001b[0;34m'3754.8057'\u001b[0m\u001b[0;34m)\u001b[0m\u001b[0;34m\u001b[0m\u001b[0m\n\u001b[0;32m----> 7\u001b[0;31m \u001b[0mresult\u001b[0m \u001b[0;34m=\u001b[0m \u001b[0mconvert\u001b[0m\u001b[0;34m(\u001b[0m\u001b[0mDecimal\u001b[0m\u001b[0;34m(\u001b[0m\u001b[0;34m\"1000.1000\"\u001b[0m\u001b[0;34m)\u001b[0m\u001b[0;34m,\u001b[0m \u001b[0;34m'RUR'\u001b[0m\u001b[0;34m,\u001b[0m \u001b[0;34m'JPY'\u001b[0m\u001b[0;34m,\u001b[0m \u001b[0;34m\"17/02/2005\"\u001b[0m\u001b[0;34m,\u001b[0m\u001b[0mrequests\u001b[0m\u001b[0;34m)\u001b[0m\u001b[0;34m\u001b[0m\u001b[0m\n\u001b[0m\u001b[1;32m      8\u001b[0m \u001b[0;32mif\u001b[0m \u001b[0mresult\u001b[0m \u001b[0;34m==\u001b[0m \u001b[0mcorrect\u001b[0m\u001b[0;34m:\u001b[0m\u001b[0;34m\u001b[0m\u001b[0m\n\u001b[1;32m      9\u001b[0m     \u001b[0mprint\u001b[0m\u001b[0;34m(\u001b[0m\u001b[0;34m\"Correct\"\u001b[0m\u001b[0;34m)\u001b[0m\u001b[0;34m\u001b[0m\u001b[0m\n",
      "\u001b[0;32m~/Рабочий стол/Python_Course/creating_web_in_python_3_course/week2/converter_sample/currency.py\u001b[0m in \u001b[0;36mconvert\u001b[0;34m(amount, cur_from, cur_to, date, requests)\u001b[0m\n\u001b[1;32m      4\u001b[0m \u001b[0;34m\u001b[0m\u001b[0m\n\u001b[1;32m      5\u001b[0m \u001b[0;32mdef\u001b[0m \u001b[0mconvert\u001b[0m\u001b[0;34m(\u001b[0m\u001b[0mamount\u001b[0m\u001b[0;34m,\u001b[0m \u001b[0mcur_from\u001b[0m\u001b[0;34m,\u001b[0m \u001b[0mcur_to\u001b[0m\u001b[0;34m,\u001b[0m \u001b[0mdate\u001b[0m\u001b[0;34m,\u001b[0m \u001b[0mrequests\u001b[0m\u001b[0;34m)\u001b[0m\u001b[0;34m:\u001b[0m\u001b[0;34m\u001b[0m\u001b[0m\n\u001b[0;32m----> 6\u001b[0;31m     \u001b[0mresponse\u001b[0m \u001b[0;34m=\u001b[0m \u001b[0mrequests\u001b[0m\u001b[0;34m.\u001b[0m\u001b[0mget\u001b[0m\u001b[0;34m(\u001b[0m\u001b[0;34m)\u001b[0m  \u001b[0;31m# Использовать переданный requests\u001b[0m\u001b[0;34m\u001b[0m\u001b[0m\n\u001b[0m\u001b[1;32m      7\u001b[0m     \u001b[0;31m# ...\u001b[0m\u001b[0;34m\u001b[0m\u001b[0;34m\u001b[0m\u001b[0m\n\u001b[1;32m      8\u001b[0m     \u001b[0mresult\u001b[0m \u001b[0;34m=\u001b[0m \u001b[0mDecimal\u001b[0m\u001b[0;34m(\u001b[0m\u001b[0;34m'3754.8057'\u001b[0m\u001b[0;34m)\u001b[0m\u001b[0;34m\u001b[0m\u001b[0m\n",
      "\u001b[0;31mTypeError\u001b[0m: get() missing 1 required positional argument: 'url'"
     ]
    }
   ],
   "source": [
    "import requests\n",
    "from decimal import Decimal\n",
    "from currency import convert\n",
    "\n",
    "\n",
    "correct = Decimal('3754.8057')\n",
    "result = convert(Decimal(\"1000.1000\"), 'RUR', 'JPY', \"17/02/2005\",requests)\n",
    "if result == correct:\n",
    "    print(\"Correct\")\n",
    "else:\n",
    "    print(\"Incorrect: %s != %s\" % (result, correct))"
   ]
  },
  {
   "cell_type": "code",
   "execution_count": null,
   "metadata": {},
   "outputs": [],
   "source": []
  },
  {
   "cell_type": "code",
   "execution_count": null,
   "metadata": {},
   "outputs": [],
   "source": [
    "import requests\n",
    "from bs4 import BeautifulSoup\n",
    "\n",
    "resp = requests.get(\"http://www.cbr.ru/scripts/XML_daily.asp\")\n",
    "soup = BeautifulSoup(resp.content, \"xml\")\n",
    "soup"
   ]
  },
  {
   "cell_type": "code",
   "execution_count": 4,
   "metadata": {},
   "outputs": [
    {
     "data": {
      "text/plain": [
       "'80,0598'"
      ]
     },
     "execution_count": 4,
     "metadata": {},
     "output_type": "execute_result"
    }
   ],
   "source": [
    "soup.find('CharCode', text='EUR').find_next_sibling('Value').string"
   ]
  },
  {
   "cell_type": "code",
   "execution_count": null,
   "metadata": {},
   "outputs": [],
   "source": []
  },
  {
   "cell_type": "code",
   "execution_count": 43,
   "metadata": {},
   "outputs": [
    {
     "name": "stdout",
     "output_type": "stream",
     "text": [
      "From EUR:80,0598, Nominal:1\n",
      "To USD:73,9719, Nominal:1\n",
      "7\n",
      "3\n",
      ",\n",
      "9\n",
      "7\n",
      "1\n",
      "9\n"
     ]
    }
   ],
   "source": [
    "from bs4 import BeautifulSoup\n",
    "from decimal import Decimal\n",
    "cur_from = 'EUR'\n",
    "cur_to = 'USD'\n",
    "\n",
    "response = requests.get('http://www.cbr.ru/scripts/XML_daily.asp?')  # Использовать переданный requests\n",
    "soup = BeautifulSoup(resp.content, \"xml\")\n",
    "\n",
    "from_ = soup.find('CharCode', text=cur_from).find_next_sibling('Value').string\n",
    "from_nominal = soup.find('CharCode', text=cur_from).find_next_sibling('Nominal').string\n",
    "    \n",
    "to_ = soup.find('CharCode', text=cur_to).find_next_sibling('Value').string\n",
    "to_nominal = soup.find('CharCode', text=cur_to).find_next_sibling('Nominal').string\n",
    "\n",
    "print('From {}:{}, Nominal:{}'.format(cur_from,from_,from_nominal))\n",
    "print('To {}:{}, Nominal:{}'.format(cur_to,to_,to_nominal))\n",
    "\n",
    "a = float(from_nominal)/float(to_nominal)\n",
    "for i in to_:\n",
    "    print(i)\n",
    "# print('1 {} = {} {}'.format(cur_from,a,cur_to))"
   ]
  },
  {
   "cell_type": "code",
   "execution_count": null,
   "metadata": {},
   "outputs": [],
   "source": []
  },
  {
   "cell_type": "code",
   "execution_count": 16,
   "metadata": {},
   "outputs": [],
   "source": [
    "path = '/home/kl/Рабочий стол/Python_Course/creating_web_in_python_3_course/week2/BS_parser/wiki/Stone_Age'"
   ]
  },
  {
   "cell_type": "code",
   "execution_count": 23,
   "metadata": {},
   "outputs": [
    {
     "name": "stdout",
     "output_type": "stream",
     "text": [
      "[]\n"
     ]
    }
   ],
   "source": [
    "from bs4 import BeautifulSoup\n",
    "import unittest\n",
    "\n",
    "def parse(path):\n",
    "    with open(path,'r',encoding='utf-8') as html:\n",
    "        soup = BeautifulSoup(html, \"lxml\") \n",
    "        print(soup.select('class.img.width.200'))\n",
    "        \n",
    "#     return [imgs, headers, linkslen, lists]\n",
    "\n",
    "parse(path)"
   ]
  },
  {
   "cell_type": "code",
   "execution_count": null,
   "metadata": {},
   "outputs": [],
   "source": []
  },
  {
   "cell_type": "code",
   "execution_count": null,
   "metadata": {},
   "outputs": [],
   "source": []
  },
  {
   "cell_type": "code",
   "execution_count": null,
   "metadata": {},
   "outputs": [],
   "source": []
  },
  {
   "cell_type": "code",
   "execution_count": null,
   "metadata": {},
   "outputs": [],
   "source": []
  },
  {
   "cell_type": "code",
   "execution_count": null,
   "metadata": {},
   "outputs": [],
   "source": [
    "from bs4 import BeautifulSoup\n",
    "import unittest\n",
    "\n",
    "def parse(path):\n",
    "    with open(path,'r',encoding='utf-8') as html:\n",
    "        soup = BeautifulSoup(html, \"lxml\")    \n",
    "    # Поместите ваш код здесь.\n",
    "    # ВАЖНО!!!\n",
    "    # При открытии файла, добавьте в функцию open необязательный параметр\n",
    "    # encoding='utf-8', его отсутствие в коде будет вызвать падение вашего\n",
    "    # решения на грейдере с ошибкой UnicodeDecodeError\n",
    "    return [imgs, headers, linkslen, lists]\n",
    "\n",
    "\n",
    "class TestParse(unittest.TestCase):\n",
    "    def test_parse(self):\n",
    "        test_cases = (\n",
    "            ('wiki/Stone_Age', [13, 10, 12, 40]),\n",
    "            ('wiki/Brain', [19, 5, 25, 11]),\n",
    "            ('wiki/Artificial_intelligence', [8, 19, 13, 198]),\n",
    "            ('wiki/Python_(programming_language)', [2, 5, 17, 41]),\n",
    "            ('wiki/Spectrogram', [1, 2, 4, 7]),)\n",
    "\n",
    "        for path, expected in test_cases:\n",
    "            with self.subTest(path=path, expected=expected):\n",
    "                self.assertEqual(parse(path), expected)\n",
    "\n",
    "\n",
    "if __name__ == '__main__':\n",
    "    unittest.main()"
   ]
  },
  {
   "cell_type": "code",
   "execution_count": null,
   "metadata": {},
   "outputs": [],
   "source": []
  },
  {
   "cell_type": "code",
   "execution_count": null,
   "metadata": {},
   "outputs": [],
   "source": []
  },
  {
   "cell_type": "code",
   "execution_count": null,
   "metadata": {},
   "outputs": [],
   "source": []
  }
 ],
 "metadata": {
  "kernelspec": {
   "display_name": "Python 3",
   "language": "python",
   "name": "python3"
  },
  "language_info": {
   "codemirror_mode": {
    "name": "ipython",
    "version": 3
   },
   "file_extension": ".py",
   "mimetype": "text/x-python",
   "name": "python",
   "nbconvert_exporter": "python",
   "pygments_lexer": "ipython3",
   "version": "3.6.5"
  }
 },
 "nbformat": 4,
 "nbformat_minor": 2
}
