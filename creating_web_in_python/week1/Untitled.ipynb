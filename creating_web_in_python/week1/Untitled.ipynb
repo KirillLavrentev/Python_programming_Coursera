{
 "cells": [
  {
   "cell_type": "code",
   "execution_count": 11,
   "metadata": {},
   "outputs": [
    {
     "ename": "AttributeError",
     "evalue": "'NoneType' object has no attribute 'group'",
     "output_type": "error",
     "traceback": [
      "\u001b[0;31m---------------------------------------------------------------------------\u001b[0m",
      "\u001b[0;31mAttributeError\u001b[0m                            Traceback (most recent call last)",
      "\u001b[0;32m<ipython-input-11-1aefb5f6d216>\u001b[0m in \u001b[0;36m<module>\u001b[0;34m()\u001b[0m\n\u001b[1;32m      2\u001b[0m \u001b[0;34m\u001b[0m\u001b[0m\n\u001b[1;32m      3\u001b[0m \u001b[0msw\u001b[0m \u001b[0;34m=\u001b[0m \u001b[0;34m'bb8'\u001b[0m\u001b[0;34m\u001b[0m\u001b[0m\n\u001b[0;32m----> 4\u001b[0;31m \u001b[0mre\u001b[0m\u001b[0;34m.\u001b[0m\u001b[0msearch\u001b[0m\u001b[0;34m(\u001b[0m\u001b[0;34mr\"[a-z]\\d[a-z][\\da-z]\"\u001b[0m\u001b[0;34m,\u001b[0m \u001b[0msw\u001b[0m\u001b[0;34m)\u001b[0m\u001b[0;34m.\u001b[0m\u001b[0mgroup\u001b[0m\u001b[0;34m(\u001b[0m\u001b[0;36m0\u001b[0m\u001b[0;34m)\u001b[0m\u001b[0;34m\u001b[0m\u001b[0m\n\u001b[0m",
      "\u001b[0;31mAttributeError\u001b[0m: 'NoneType' object has no attribute 'group'"
     ]
    }
   ],
   "source": [
    "import re\n",
    "\n",
    "sw = 'bb8'\n",
    "re.search(r\"[a-z]\\d[a-z][\\da-z]\", sw).group(0)"
   ]
  },
  {
   "cell_type": "code",
   "execution_count": 20,
   "metadata": {},
   "outputs": [
    {
     "data": {
      "text/plain": [
       "['2']"
      ]
     },
     "execution_count": 20,
     "metadata": {},
     "output_type": "execute_result"
    }
   ],
   "source": [
    "exp = 'м.+?ы'\n",
    "exp1 = '....мы'\n",
    "exp2 = \"м.*?ы\"\n",
    "exp3 = r'a.\\D'\n",
    "exp4 = r'\\d+'\n",
    "exp5 = 'мы'\n",
    "exp6 = 'м.*ы'\n",
    "re.findall(exp4, \"мама вымыла 2 рамы\")"
   ]
  },
  {
   "cell_type": "code",
   "execution_count": 97,
   "metadata": {},
   "outputs": [
    {
     "data": {
      "text/plain": [
       "[]"
      ]
     },
     "execution_count": 97,
     "metadata": {},
     "output_type": "execute_result"
    }
   ],
   "source": [
    "text = \"\"\"a=1a=+1a=-1\n",
    "    a=b\n",
    "    a=b+100\n",
    "    a=b-100\n",
    "    \n",
    "    b+=10\n",
    "    b+=+10\n",
    "    b+=-10\n",
    "    b+=b\n",
    "    b+=b+100\n",
    "    b+=b-100\n",
    "    \n",
    "    c-=101\n",
    "    c-=+101\n",
    "    c-=-101\n",
    "    c-=b\n",
    "    c-=b+101\n",
    "    c-=b-101\n",
    "    \"\"\"\n",
    "# ([abc]?)([+-]?)\\=([abc]?)([+-]?\\d+)?\\s?$\n",
    "exp = r\"^([abc]?)$\" #\"([+-]?)\\=([abc]?)([+-]?\\d+)?\\s?$\"\n",
    "re.findall(exp, text)"
   ]
  },
  {
   "cell_type": "code",
   "execution_count": 53,
   "metadata": {},
   "outputs": [
    {
     "data": {
      "text/plain": [
       "['123', '45', '6']"
      ]
     },
     "execution_count": 53,
     "metadata": {},
     "output_type": "execute_result"
    }
   ],
   "source": [
    "def find_all_digits(text):\n",
    "    exp = r'\\d+'  #Тут напишите своё регулярное выражение  \n",
    "    return re.findall(exp, text)\n",
    "find_all_digits(text)"
   ]
  },
  {
   "cell_type": "code",
   "execution_count": null,
   "metadata": {},
   "outputs": [],
   "source": []
  },
  {
   "cell_type": "code",
   "execution_count": 104,
   "metadata": {},
   "outputs": [],
   "source": [
    "def calculate(data, findall):\n",
    "    matches = findall(r\"^([abc]?)([+-]?)\\=([abc]?)([+-]?\\d+)?\\s?$\")  # Если придумать хорошую регулярку, будет просто\n",
    "    print(matches)\n",
    "    #     for v1, s, v2, n in matches:  # Если кортеж такой структуры: var1, [sign]=, [var2], [[+-]number]\n",
    "        # Если бы могло быть только =, вообще одной строкой все считалось бы, вот так:\n",
    "#         data[v1] = data.get(v2, 0) + int(n or 0)\n",
    "\n",
    "    return data\n",
    "\n",
    "def calculate(data, findall):\n",
    "    matches = findall(r\"([abc])([+-]?)=([abc])?([+-]?\\d+)?\")\n",
    "    for a, sign, b, number in matches:\n",
    "        right = data.get(b, 0) + int(number or 0)\n",
    "        if sign == \"-\":\n",
    "            data[a] -= right\n",
    "        elif sign == \"+\":\n",
    "            data[a] += right\n",
    "        else:\n",
    "            data[a] = right\n",
    "    return data"
   ]
  },
  {
   "cell_type": "code",
   "execution_count": 105,
   "metadata": {},
   "outputs": [
    {
     "name": "stdout",
     "output_type": "stream",
     "text": [
      "5\n",
      "5\n",
      "5\n",
      "2\n",
      "2\n",
      "2\n",
      "5\n",
      "5\n",
      "5\n",
      "2\n",
      "2\n",
      "2\n",
      "5\n",
      "5\n",
      "5\n",
      "2\n",
      "2\n",
      "2\n",
      "result =  {'a': 1, 'b': 2, 'c': 3}\n",
      "Incorrect: {'a': 1, 'b': 2, 'c': 3} != {'a': -98, 'b': 196, 'c': -686}\n"
     ]
    }
   ],
   "source": [
    "import re\n",
    "# from regexp import calculate\n",
    "\n",
    "\n",
    "def findall(regexp):\n",
    "    text = \"\"\"\n",
    "    a=1\n",
    "    a=+1\n",
    "    a=-1\n",
    "    a=b\n",
    "    a=b+100\n",
    "    a=b-100\n",
    "    \n",
    "    b+=10\n",
    "    b+=+10\n",
    "    b+=-10\n",
    "    b+=b\n",
    "    b+=b+100\n",
    "    b+=b-100\n",
    "    \n",
    "    c-=101\n",
    "    c-=+101\n",
    "    c-=-101\n",
    "    c-=b\n",
    "    c-=b+101\n",
    "    c-=b-101\n",
    "    \"\"\"\n",
    "\n",
    "    return re.findall(regexp, text)\n",
    "\n",
    "\n",
    "result = calculate({'a': 1, 'b': 2, 'c': 3}, findall)\n",
    "print('result = ',result)\n",
    "correct = {\"a\": -98, \"b\": 196, \"c\": -686}\n",
    "if result == correct:\n",
    "    print (\"Correct\")\n",
    "else:\n",
    "    print (\"Incorrect: %s != %s\" % (result, correct))"
   ]
  },
  {
   "cell_type": "code",
   "execution_count": 83,
   "metadata": {},
   "outputs": [
    {
     "data": {
      "text/plain": [
       "[]"
      ]
     },
     "execution_count": 83,
     "metadata": {},
     "output_type": "execute_result"
    }
   ],
   "source": [
    "findall(r\"^([abc]?)([+-]?)\\=([abc]?)([+-]?\\d+)?\\s?$\")"
   ]
  },
  {
   "cell_type": "code",
   "execution_count": 2,
   "metadata": {},
   "outputs": [],
   "source": [
    "import requests"
   ]
  },
  {
   "cell_type": "code",
   "execution_count": 119,
   "metadata": {},
   "outputs": [
    {
     "name": "stdout",
     "output_type": "stream",
     "text": [
      "Статус код:  200\n",
      "b'{\"response\":[{\"id\":255478108,\"first_name\":\"Kirill\",\"last_name\":\"Lavrentyev\"}]}'\n"
     ]
    }
   ],
   "source": [
    "# token= '38db976e38db976e38db976e8438aa23c8338db38db976e666923ef083bdd3f3f42e8e1'\n",
    "token = '17da724517da724517da72458517b8abce117da17da72454d235c274f1a2be5f45ee711'\n",
    "user_id = 'id255478108'\n",
    "api_url = 'https://api.vk.com/method/users.get?v=5.71&access_token={}&user_ids={}'.format(token,user_id)\n",
    "# api_url = 'https://api.vk.com/method/friends.get?v=5.71&access_token={}'.format(token)   \n",
    "response = requests.get(api_url)\n",
    "print(\"Статус код: \",response.status_code)        \n",
    "data = response.content\n",
    "print(data)"
   ]
  },
  {
   "cell_type": "markdown",
   "metadata": {},
   "source": [
    "### Метод для получения списка друзей пользователя "
   ]
  },
  {
   "cell_type": "code",
   "execution_count": 183,
   "metadata": {},
   "outputs": [
    {
     "name": "stdout",
     "output_type": "stream",
     "text": [
      "Статус код:  200\n"
     ]
    }
   ],
   "source": [
    "import json\n",
    "token = '38db976e38db976e38db976e8438aa23c8338db38db976e666923ef083bdd3f3f42e8e1'\n",
    "user_id = '50263144'\n",
    "# api_url = 'https://api.vk.com/method/friends.get?v=5.71&access_token={}&user_ids={}'.format(token,user_id)\n",
    "api_url = 'https://api.vk.com/method/friends.get?v=5.71&access_token={}&user_id={}&fields=bdate'.format(token,user_id)\n",
    "response = requests.get(api_url)\n",
    "print(\"Статус код: \",response.status_code)        \n",
    "data = response.json()\n",
    "\n",
    "with open('response.json', 'w', encoding='utf-8') as file:\n",
    "    json.dump(data, file, indent=2, ensure_ascii=False)"
   ]
  },
  {
   "cell_type": "code",
   "execution_count": 172,
   "metadata": {},
   "outputs": [
    {
     "name": "stdout",
     "output_type": "stream",
     "text": [
      "['1988', '1987', '1989', '1989', '1992', '1993', '1994', '1993', '1991', '1994', '1991', '1979', '1992', '1995', '1994', '1994', '1992', '1996', '1995', '1995', '1993', '1995', '1996', '1996', '1996', '1995', '1997', '1996', '1996', '1997', '1994', '1996', '1995', '1995', '1997', '1995', '1996', '1998', '1991', '1995', '1990', '1996', '1999', '1996', '1997', '1994', '1999', '1996', '1995', '1994', '1998', '1997', '1997', '1997', '1997', '1995', '1997', '1997', '1995', '1996', '1996', '1993', '1997', '1996', '1996', '1997', '1997', '1997', '1997', '1995', '1993', '1996', '1999', '1995', '1998', '1994', '1994', '1997', '1998', '1998', '1994', '1998', '1997', '1969', '1995', '1997', '1998', '1997', '1997', '1997', '1997', '2000', '1996', '1996', '1997', '1997', '1997', '1997', '1905', '1997', '1997', '2001', '1997', '1998', '1997', '1998', '1996', '1996', '1997', '1997', '1997', '1995', '1994', '1997', '1996', '1995', '1997', '1997', '1995', '1997', '1998', '1995', '1994', '1996', '1998', '1994', '1998', '1995', '1996', '2000', '1998', '1996', '1998', '1992', '1994', '1998', '1998', '1997', '1996', '1997', '1997', '1997', '1996', '1998', '1998', '1999', '1998', '1997', '2000', '1997', '1997', '1998', '2001', '1998', '1998', '1998', '1996', '1996', '1995', '1998', '1989', '1997', '1997', '1994', '1997', '1997', '1997', '1998', '1998', '1998', '2000', '1994', '1999', '1996', '1995', '1997', '1997', '1998', '1996', '1997', '1998', '1998', '1997', '1957', '1999', '1998', '1997', '1996', '1997', '1998', '1991', '1996', '1996', '1999', '2000', '1997', '1999', '1997', '2000', '1997', '1999', '1997', '1997', '2000', '1998', '1997', '1995', '1995', '1999', '1992', '1995', '1997', '1998', '1996', '1998', '2001', '1997', '1997', '1919', '1998', '1995', '1995', '1998', '1960', '1997', '1997', '1998', '1997', '1997', '1995', '1998', '1997', '1996', '1998', '2000', '1967', '1999', '1999', '1995', '1959', '2005']\n"
     ]
    }
   ],
   "source": [
    "a = data['response']['items']\n",
    "# print(a)\n",
    "bdays = []\n",
    "for num,i in enumerate(a):\n",
    "    try:\n",
    "#         print(i['bdate'])\n",
    "        b = i['bdate'].split('.')\n",
    "        bdays.append(b[2])\n",
    "#         print(b[2])\n",
    "    except (KeyError,IndexError):\n",
    "        continue\n",
    "print(bdays)"
   ]
  },
  {
   "cell_type": "code",
   "execution_count": null,
   "metadata": {},
   "outputs": [],
   "source": []
  },
  {
   "cell_type": "code",
   "execution_count": null,
   "metadata": {},
   "outputs": [],
   "source": []
  },
  {
   "cell_type": "code",
   "execution_count": null,
   "metadata": {},
   "outputs": [],
   "source": []
  },
  {
   "cell_type": "markdown",
   "metadata": {},
   "source": [
    "### Метод для получения id пользователя"
   ]
  },
  {
   "cell_type": "code",
   "execution_count": 4,
   "metadata": {},
   "outputs": [
    {
     "name": "stdout",
     "output_type": "stream",
     "text": [
      "Статус код:  200\n",
      "b'{\"response\":[{\"id\":12232139,\"first_name\":\"Alexandra\",\"last_name\":\"Pliss\"}]}'\n"
     ]
    }
   ],
   "source": [
    "token = '38db976e38db976e38db976e8438aa23c8338db38db976e666923ef083bdd3f3f42e8e1'\n",
    "user_id = 'ali_pliss'#'255478108'\n",
    "api_url = 'https://api.vk.com/method/users.get?v=5.71&access_token={}&user_ids={}'.format(token,user_id)\n",
    "response = requests.get(api_url)\n",
    "print(\"Статус код: \",response.status_code)        \n",
    "data = response.content\n",
    "print(data)"
   ]
  },
  {
   "cell_type": "code",
   "execution_count": 8,
   "metadata": {},
   "outputs": [
    {
     "data": {
      "text/plain": [
       "{'response': [{'id': 17801389,\n",
       "   'first_name': 'Darya',\n",
       "   'last_name': 'Izhevskaya',\n",
       "   'sex': 1,\n",
       "   'maiden_name': '',\n",
       "   'screen_name': 'superkinder',\n",
       "   'bdate': '16.3',\n",
       "   'city': {'id': 1, 'title': 'Moscow'},\n",
       "   'country': {'id': 1, 'title': 'Russia'},\n",
       "   'has_photo': 1,\n",
       "   'is_friend': 0,\n",
       "   'friend_status': 0,\n",
       "   'can_see_audio': 0,\n",
       "   'can_write_private_message': 1,\n",
       "   'can_send_friend_request': 1,\n",
       "   'crop_photo': {'photo': {'id': 456247588,\n",
       "     'album_id': -6,\n",
       "     'owner_id': 17801389,\n",
       "     'photo_75': 'https://sun9-42.userapi.com/c845220/v845220397/1dec6f/1mU3i_3be3c.jpg',\n",
       "     'photo_130': 'https://sun9-52.userapi.com/c845220/v845220397/1dec70/zDMJMLgUPsg.jpg',\n",
       "     'photo_604': 'https://sun9-65.userapi.com/c845220/v845220397/1dec71/kn80A_CIrt8.jpg',\n",
       "     'photo_807': 'https://sun9-25.userapi.com/c845220/v845220397/1dec72/sqtS5Pu8s4M.jpg',\n",
       "     'photo_1280': 'https://sun9-23.userapi.com/c845220/v845220397/1dec73/1Jn98tcnDho.jpg',\n",
       "     'photo_2560': 'https://sun9-24.userapi.com/c845220/v845220397/1dec74/kkuMEPyWQZs.jpg',\n",
       "     'width': 1500,\n",
       "     'height': 1340,\n",
       "     'text': '',\n",
       "     'date': 1554139570,\n",
       "     'post_id': 7575},\n",
       "    'crop': {'x': 8.13, 'y': 0.0, 'x2': 97.47, 'y2': 100.0},\n",
       "    'rect': {'x': 3.43, 'y': 20.07, 'x2': 83.06, 'y2': 99.7}},\n",
       "   'verified': 0,\n",
       "   'blacklisted': 1,\n",
       "   'blacklisted_by_me': 0,\n",
       "   'is_hidden_from_feed': 0}]}"
      ]
     },
     "execution_count": 8,
     "metadata": {},
     "output_type": "execute_result"
    }
   ],
   "source": [
    "import requests\n",
    "resp = requests.get(\n",
    "'https://api.vk.com/method/users.get',\n",
    "params={ 'access_token': '38db976e38db976e38db976e8438aa23c8338db38db976e666923ef083bdd3f3f42e8e1','user_id': '17801389',\n",
    "'v': '5.68',\n",
    "'fields': \"photo_id, verified, sex, bdate, city, country, home_town, has_photo, can_see_audio, can_write_private_message, can_send_friend_request,is_favorite, is_hidden_from_feed, timezone, screen_name, maiden_name,crop_photo, is_friend, friend_status, career, military, blacklisted,blacklisted_by_me\",\n",
    "}\n",
    ")\n",
    "resp.json()"
   ]
  },
  {
   "cell_type": "code",
   "execution_count": null,
   "metadata": {},
   "outputs": [],
   "source": []
  }
 ],
 "metadata": {
  "kernelspec": {
   "display_name": "Python 3",
   "language": "python",
   "name": "python3"
  },
  "language_info": {
   "codemirror_mode": {
    "name": "ipython",
    "version": 3
   },
   "file_extension": ".py",
   "mimetype": "text/x-python",
   "name": "python",
   "nbconvert_exporter": "python",
   "pygments_lexer": "ipython3",
   "version": "3.6.5"
  }
 },
 "nbformat": 4,
 "nbformat_minor": 2
}
